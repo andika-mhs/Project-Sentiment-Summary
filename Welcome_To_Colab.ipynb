{
  "cells": [
    {
      "cell_type": "markdown",
      "metadata": {
        "id": "view-in-github",
        "colab_type": "text"
      },
      "source": [
        "<a href=\"https://colab.research.google.com/github/andika-mhs/Project-Sentiment-Summary/blob/main/Welcome_To_Colab.ipynb\" target=\"_parent\"><img src=\"https://colab.research.google.com/assets/colab-badge.svg\" alt=\"Open In Colab\"/></a>"
      ]
    },
    {
      "cell_type": "markdown",
      "source": [
        "# Project-Sentiment-Summary"
      ],
      "metadata": {
        "id": "Ph8Eb3Pv2kJ6"
      }
    },
    {
      "cell_type": "code",
      "source": [
        "!pip install replicate\n",
        "\n",
        "import replicate\n",
        "import os\n",
        "\n",
        "# Get the API token from Colab secrets\n",
        "from google.colab import userdata\n",
        "replicate_api_token = userdata.get('REPLICATE_API_TOKEN')\n",
        "\n",
        "# Set the API token as an environment variable\n",
        "os.environ[\"REPLICATE_API_TOKEN\"] = replicate_api_token\n"
      ],
      "metadata": {
        "colab": {
          "base_uri": "https://localhost:8080/"
        },
        "id": "IdLggva72lpa",
        "outputId": "beef89d8-45fc-4ef0-da29-3b523f6a0343"
      },
      "execution_count": 19,
      "outputs": [
        {
          "output_type": "stream",
          "name": "stdout",
          "text": [
            "Requirement already satisfied: replicate in /usr/local/lib/python3.11/dist-packages (1.0.7)\n",
            "Requirement already satisfied: httpx<1,>=0.21.0 in /usr/local/lib/python3.11/dist-packages (from replicate) (0.28.1)\n",
            "Requirement already satisfied: packaging in /usr/local/lib/python3.11/dist-packages (from replicate) (24.2)\n",
            "Requirement already satisfied: pydantic>1.10.7 in /usr/local/lib/python3.11/dist-packages (from replicate) (2.11.7)\n",
            "Requirement already satisfied: typing_extensions>=4.5.0 in /usr/local/lib/python3.11/dist-packages (from replicate) (4.14.0)\n",
            "Requirement already satisfied: anyio in /usr/local/lib/python3.11/dist-packages (from httpx<1,>=0.21.0->replicate) (4.9.0)\n",
            "Requirement already satisfied: certifi in /usr/local/lib/python3.11/dist-packages (from httpx<1,>=0.21.0->replicate) (2025.6.15)\n",
            "Requirement already satisfied: httpcore==1.* in /usr/local/lib/python3.11/dist-packages (from httpx<1,>=0.21.0->replicate) (1.0.9)\n",
            "Requirement already satisfied: idna in /usr/local/lib/python3.11/dist-packages (from httpx<1,>=0.21.0->replicate) (3.10)\n",
            "Requirement already satisfied: h11>=0.16 in /usr/local/lib/python3.11/dist-packages (from httpcore==1.*->httpx<1,>=0.21.0->replicate) (0.16.0)\n",
            "Requirement already satisfied: annotated-types>=0.6.0 in /usr/local/lib/python3.11/dist-packages (from pydantic>1.10.7->replicate) (0.7.0)\n",
            "Requirement already satisfied: pydantic-core==2.33.2 in /usr/local/lib/python3.11/dist-packages (from pydantic>1.10.7->replicate) (2.33.2)\n",
            "Requirement already satisfied: typing-inspection>=0.4.0 in /usr/local/lib/python3.11/dist-packages (from pydantic>1.10.7->replicate) (0.4.1)\n",
            "Requirement already satisfied: sniffio>=1.1 in /usr/local/lib/python3.11/dist-packages (from anyio->httpx<1,>=0.21.0->replicate) (1.3.1)\n"
          ]
        }
      ]
    },
    {
      "cell_type": "code",
      "source": [
        "import pandas as pd\n",
        "df = pd.read_csv(\"Equal.csv\", encoding='latin1', sep=';', on_bad_lines = 'skip')\n",
        "df.columns = df.columns.str.strip()\n",
        "print(\"Column names:\", df.columns.tolist())\n",
        "df.head()\n",
        "sample = df.sample(20, random_state=42)\n",
        "\n",
        "summaries = []\n",
        "\n",
        "import time\n",
        "\n",
        "for idx, row in sample.iterrows():\n",
        "  review_text = row[\"Review\"]\n",
        "  sentiment = row[\"Sentiment\"]\n",
        "\n",
        "  prompt = f\"Summarize the following product review is one sentence:\\n\\n{review_text}\"\n",
        "\n",
        "  try:\n",
        "    result = replicate.run(\n",
        "        \"ibm-granite/granite-3.3-8b-instruct\",\n",
        "        input={\"prompt\": prompt}\n",
        "    )\n",
        "    summary = \"\".join(result)\n",
        "  except Exception as e:\n",
        "    summary = f\"Error: {e}\"\n",
        "\n",
        "  print(f\"[{idx}] Sentiment: {sentiment}\")\n",
        "  print(f\"Original Review: {review_text[:200]}...\")\n",
        "  print(f\"Summary: {summary}\")\n",
        "  print(\"=\"*60)\n",
        "\n",
        "  summaries.append(summary)\n",
        "\n",
        "  time.sleep(12)\n",
        "\n",
        "sample[\"Summary\"] = summaries\n",
        "sample.to_csv(\"summarized_reviews.csv\", index=False)"
      ],
      "metadata": {
        "colab": {
          "base_uri": "https://localhost:8080/"
        },
        "id": "IbV2PVQ12ocJ",
        "outputId": "7fdd2003-42cd-49dc-c4f3-b6f6b07a6b47"
      },
      "execution_count": 20,
      "outputs": [
        {
          "output_type": "stream",
          "name": "stderr",
          "text": [
            "/tmp/ipython-input-20-1962963849.py:2: DtypeWarning: Columns (21,22,23) have mixed types. Specify dtype option on import or set low_memory=False.\n",
            "  df = pd.read_csv(\"Equal.csv\", encoding='latin1', sep=';', on_bad_lines = 'skip')\n"
          ]
        },
        {
          "output_type": "stream",
          "name": "stdout",
          "text": [
            "Column names: ['product_name', 'product_price', 'Rate', 'Review', 'Summary', 'Sentiment', 'Unnamed: 6', 'Unnamed: 7', 'Unnamed: 8', 'Unnamed: 9', 'Unnamed: 10', 'Unnamed: 11', 'Unnamed: 12', 'Unnamed: 13', 'Unnamed: 14', 'Unnamed: 15', 'Unnamed: 16', 'Unnamed: 17', 'Unnamed: 18', 'Unnamed: 19', 'Unnamed: 20', 'Unnamed: 21', 'Unnamed: 22', 'Unnamed: 23']\n",
            "[28847] Sentiment: neutral\n",
            "Original Review: worth the money...\n",
            "Summary: The product offers good value for its price, making it a worthwhile investment.\n",
            "============================================================\n",
            "[60299] Sentiment: negative\n",
            "Original Review: Very poor...\n",
            "Summary: The product review indicates an extremely negative opinion, with the user expressing extreme dissatisfaction.\n",
            "============================================================\n",
            "[73585] Sentiment: negative\n",
            "Original Review: expected a better product...\n",
            "Summary: The user was disappointed as the product did not meet their expectations.\n",
            "============================================================\n",
            "[75750] Sentiment: not a good very bad its not a football this is a bholiball\n",
            "Original Review: 1...\n",
            "Summary: The product review expresses dissatisfaction due to poor build quality, short battery life, and unresponsive touchscreen, despite its sleek design and affordable price.\n",
            "============================================================\n",
            "[70704] Sentiment: negative\n",
            "Original Review: don t waste your money...\n",
            "Summary: The product is not worth purchasing.\n",
            "============================================================\n",
            "[54861] Sentiment: negative\n",
            "Original Review: nice...\n",
            "Summary: The product review expresses a positive sentiment, simply stating \"nice\".\n",
            "============================================================\n",
            "[41024] Sentiment: product was good as expected but delivery boy was not so experienced its take two day late for delivery\n",
            "Original Review: 3...\n",
            "Summary: The product review, rated 3 out of 5, suggests a middle-of-the-road assessment with room for improvement, indicating it's neither exceptional nor poor, but average.\n",
            "============================================================\n",
            "[27667] Sentiment: neutral\n",
            "Original Review: slightly disappointed...\n",
            "Summary: The user expresses slight dissatisfaction with the product, indicating it didn't meet their full expectations.\n",
            "============================================================\n",
            "[63117] Sentiment: negative\n",
            "Original Review: Hated it!...\n",
            "Summary: The product review expresses a strong dislike for the item.\n",
            "============================================================\n",
            "[66042] Sentiment: Horrible\n",
            "Original Review: ?????????????????????????????????????305...\n",
            "Summary: The Bose SoundLink Micro speaker offers impressive sound quality, is highly portable, and has a solid battery life, making it an excellent choice for music enthusiasts on-the-go, despite its slightly higher price point.\n",
            "============================================================\n",
            "[68628] Sentiment: doesnt seem original one and takes long time to charge\n",
            "Original Review: 2...\n",
            "Summary: The product review, rated 2 out of 5, suggests the item is satisfactory but lacks exceptional features, implying room for improvement.\n",
            "============================================================\n",
            "[64432] Sentiment: Redmi\n",
            "Original Review: Gionee...\n",
            "Summary: The Gionee smartphone, while offering a long-lasting battery and sleek design, falls short in terms of camera quality and software updates, leading to a mixed review.\n",
            "============================================================\n",
            "[68492] Sentiment: not 18watts very slow charging\n",
            "Original Review: 1...\n",
            "Summary: The product's unique selling points, such as its compact design and long battery life, make it an excellent choice for frequent travelers despite a slightly higher price point.\n",
            "============================================================\n",
            "[41624] Sentiment: Very poor\n",
            "Original Review: ?????????????????????????????????????51990...\n",
            "Summary: The product's unique design and high-quality materials make it a worthwhile investment despite its higher price point.\n",
            "============================================================\n",
            "[59936] Sentiment: Absolute rubbish!\n",
            "Original Review: ?????????????????????????????????????179...\n",
            "Summary: The product's high-quality, durable construction and user-friendly design have received praise, making it a top choice for customers.\n",
            "============================================================\n",
            "[66480] Sentiment: 1\n",
            "Original Review:  Cable Included)...\n",
            "Summary: The product includes a cable, which is a convenient feature for users, though its specific functionality isn't detailed in the review.\n",
            "============================================================\n",
            "[476] Sentiment: v good\n",
            "Original Review: 5...\n",
            "Summary: The product review, rated 5 out of 5, expresses complete satisfaction with the item.\n",
            "============================================================\n",
            "[52266] Sentiment: negative\n",
            "Original Review: worst experience ever!...\n",
            "Summary: The product review conveys an extremely negative experience, with the user expressing dissatisfaction by stating \"worst experience ever!\".\n",
            "============================================================\n",
            "[127] Sentiment: best\n",
            "Original Review: 5...\n",
            "Summary: The product received a perfect 5-star rating, indicating a highly positive review.\n",
            "============================================================\n",
            "[26500] Sentiment: neutral\n",
            "Original Review: good quality product...\n",
            "Summary: This product offers excellent quality, making it a reliable choice.\n",
            "============================================================\n"
          ]
        }
      ]
    }
  ],
  "metadata": {
    "colab": {
      "name": "Welcome To Colab",
      "toc_visible": true,
      "provenance": [],
      "include_colab_link": true
    },
    "kernelspec": {
      "display_name": "Python 3",
      "name": "python3"
    }
  },
  "nbformat": 4,
  "nbformat_minor": 0
}